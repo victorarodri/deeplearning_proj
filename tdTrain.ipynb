{
 "cells": [
  {
   "cell_type": "code",
   "execution_count": 1,
   "metadata": {
    "collapsed": false
   },
   "outputs": [],
   "source": [
    "import tensorflow as tf, numpy as np, shutil, random, os, csv\n",
    "from tensorflow.python.ops import rnn, rnn_cell\n",
    "import matplotlib.pyplot as plt\n",
    "import glob"
   ]
  },
  {
   "cell_type": "code",
   "execution_count": 2,
   "metadata": {
    "collapsed": true
   },
   "outputs": [],
   "source": [
    "# define variables\n",
    "train_path='./data/td/training/'\n",
    "validation_path='./data/td/validation/'\n",
    "reference_train_path=train_path + 'REFERENCE.csv'\n",
    "reference_validation_path=validation_path + 'REFERENCE.csv'\n",
    "train_dirs=os.listdir(train_path)\n",
    "train_size=len(train_dirs)\n",
    "batch_size=20\n",
    "\n",
    "batch_train_files=random.sample(os.listdir(train_path), batch_size)"
   ]
  },
  {
   "cell_type": "code",
   "execution_count": 3,
   "metadata": {
    "collapsed": true
   },
   "outputs": [],
   "source": [
    "def get_batch(path, batch_size):\n",
    "    filenames = glob.glob(os.path.join(path, '*npy'))\n",
    "    return random.sample(filenames, batch_size)\n",
    "\n",
    "def get_batch_max_len(batch_files):\n",
    "    batch_max_len=0\n",
    "    for f in batch_files:\n",
    "        batch_max_len=max(batch_max_len, np.load(f).shape[0])\n",
    "    return batch_max_len\n",
    "\n",
    "def get_reference(reference_path, reference):\n",
    "    with open(reference_path) as csvfile:\n",
    "        spamreader=csv.reader(csvfile, delimiter=',', quotechar='|')\n",
    "        for row in spamreader:\n",
    "            reference[row[0]]=row[1]\n",
    "\n",
    "def generate_batch(path):\n",
    "    batch_files=get_batch(path, batch_size)\n",
    "   \n",
    "    max_seq=get_batch_max_len(batch_files)\n",
    "\n",
    "    batchX=np.zeros((batch_size, 1, max_seq), dtype='float32')\n",
    "    i=0\n",
    "    for f in batch_files:\n",
    "        arr=np.load(f)\n",
    "        arr=np.asmatrix(arr)\n",
    "        batchX[i][0][0:arr.shape[1]]=arr\n",
    "\n",
    "    i=0\n",
    "    batchY=np.zeros(batch_size, dtype='int32')\n",
    "    for f in batch_files:\n",
    "        batchY[i] = reference_train[f.split('/')[-1].split('.')[0]]\n",
    "        i += 1\n",
    "    \n",
    "    # reshape batchX\n",
    "    batchX = np.swapaxes(batchX, 1, 2)\n",
    "    batchX = np.swapaxes(batchX, 0, 1)\n",
    "    \n",
    "    # convert batchY to onehot\n",
    "    y_onehot = np.zeros((batch_size, 2))\n",
    "    y_onehot[np.where(batchY==1)] = np.array([0,1])\n",
    "    y_onehot[np.where(batchY==-1)] = np.array([1,0])\n",
    "    \n",
    "    print('batchX, y_onehot, sizes', batchX.shape, y_onehot.shape)\n",
    "    \n",
    "    return batchX, y_onehot"
   ]
  },
  {
   "cell_type": "code",
   "execution_count": 4,
   "metadata": {
    "collapsed": false
   },
   "outputs": [],
   "source": [
    "# read in reference train/validation file\n",
    "reference_train, reference_validation = {}, {}\n",
    "get_reference(reference_train_path, reference_train)\n",
    "get_reference(reference_validation_path, reference_validation)"
   ]
  },
  {
   "cell_type": "code",
   "execution_count": 5,
   "metadata": {
    "collapsed": false
   },
   "outputs": [],
   "source": [
    "hm_epochs = 5\n",
    "n_classes = 2\n",
    "state_size = 3\n",
    "n_units = 30\n",
    "\n",
    "x_placeholder = tf.placeholder('float32', [None, batch_size, 1])\n",
    "y_placeholder = tf.placeholder('int32', [batch_size, n_classes])\n"
   ]
  },
  {
   "cell_type": "code",
   "execution_count": null,
   "metadata": {
    "collapsed": false
   },
   "outputs": [],
   "source": [
    "def recurrent_neural_network(input_data):\n",
    "    layer = {'weights':tf.Variable(tf.random_normal([n_units, n_classes])),\n",
    "             'biases':tf.Variable(tf.random_normal([n_classes]))}\n",
    "    \n",
    "    rnn_cell = tf.nn.rnn_cell.BasicRNNCell(n_units, activation=tf.nn.relu)\n",
    "    initial_state = rnn_cell.zero_state(batch_size, dtype=tf.float32)\n",
    "    outputs, state = tf.nn.dynamic_rnn(rnn_cell, \n",
    "                                       input_data,\n",
    "                                       dtype=tf.float32,\n",
    "                                       time_major=True)\n",
    "    output = tf.matmul(outputs[-1],layer['weights']) + layer['biases']\n",
    "\n",
    "    return output\n",
    "\n",
    "def train_neural_network(): \n",
    "    prediction = recurrent_neural_network(x_placeholder)\n",
    "    cost = tf.reduce_mean( tf.nn.softmax_cross_entropy_with_logits(logits=prediction,labels=tf.reshape(y_placeholder, [batch_size, n_classes])))\n",
    "    optimizer = tf.train.AdamOptimizer().minimize(cost)\n",
    "    epoch_batch_itr = 10\n",
    "    \n",
    "    correct = tf.equal(tf.argmax(prediction, 1), tf.argmax(y_placeholder, 1))\n",
    "    accuracy = tf.reduce_mean(tf.cast(correct, 'float32'))\n",
    "        \n",
    "    with tf.Session() as sess:\n",
    "        tf.global_variables_initializer().run()\n",
    "\n",
    "        for epoch in range(hm_epochs):\n",
    "            epoch_loss = 0\n",
    "            for b in range(epoch_batch_itr):\n",
    "                batchX, batchY = generate_batch(train_path)\n",
    "                _, c = sess.run([optimizer, cost], feed_dict={x_placeholder: batchX, y_placeholder: batchY})\n",
    "                epoch_loss += c\n",
    "            validation_batchX, validation_batchY = generate_batch(validation_path) \n",
    "            print('Epoch', epoch, 'loss:', epoch_loss, 'Validation Accuracy:', accuracy.eval({x_placeholder: validation_batchX, y_placeholder: validation_batchY}))        "
   ]
  },
  {
   "cell_type": "code",
   "execution_count": null,
   "metadata": {
    "collapsed": false
   },
   "outputs": [
    {
     "name": "stdout",
     "output_type": "stream",
     "text": [
      "('batchX, y_onehot, sizes', (119232, 20, 1), (20, 2))\n",
      "('Training Accuracy:', 0.80000001)\n",
      "('batchX, y_onehot, sizes', (93824, 20, 1), (20, 2))\n",
      "('Training Accuracy:', 0.75)\n",
      "('batchX, y_onehot, sizes', (77824, 20, 1), (20, 2))\n",
      "('Training Accuracy:', 0.60000002)\n",
      "('batchX, y_onehot, sizes', (106816, 20, 1), (20, 2))\n",
      "('Training Accuracy:', 0.89999998)\n",
      "('batchX, y_onehot, sizes', (103634, 20, 1), (20, 2))\n",
      "('Training Accuracy:', 0.75)\n",
      "('batchX, y_onehot, sizes', (128458, 20, 1), (20, 2))\n",
      "('Training Accuracy:', 0.75)\n",
      "('batchX, y_onehot, sizes', (212099, 20, 1), (20, 2))\n",
      "('Training Accuracy:', 0.69999999)\n",
      "('batchX, y_onehot, sizes', (114945, 20, 1), (20, 2))\n",
      "('Training Accuracy:', 0.80000001)\n",
      "('batchX, y_onehot, sizes', (72447, 20, 1), (20, 2))\n",
      "('Training Accuracy:', 0.80000001)\n",
      "('batchX, y_onehot, sizes', (187520, 20, 1), (20, 2))\n",
      "('Training Accuracy:', 0.89999998)\n",
      "('Epoch', 0, 'loss:', 57.902577430009842)\n",
      "('batchX, y_onehot, sizes', (82962, 20, 1), (20, 2))\n",
      "('Training Accuracy:', 0.80000001)\n",
      "('batchX, y_onehot, sizes', (71193, 20, 1), (20, 2))\n",
      "('Training Accuracy:', 0.80000001)\n",
      "('batchX, y_onehot, sizes', (86836, 20, 1), (20, 2))\n",
      "('Training Accuracy:', 0.80000001)\n",
      "('batchX, y_onehot, sizes', (77662, 20, 1), (20, 2))\n",
      "('Training Accuracy:', 0.85000002)\n",
      "('batchX, y_onehot, sizes', (163266, 20, 1), (20, 2))\n",
      "('Training Accuracy:', 0.80000001)\n",
      "('batchX, y_onehot, sizes', (74774, 20, 1), (20, 2))\n",
      "('Training Accuracy:', 0.64999998)\n",
      "('batchX, y_onehot, sizes', (187068, 20, 1), (20, 2))\n",
      "('Training Accuracy:', 0.94999999)\n",
      "('batchX, y_onehot, sizes', (71472, 20, 1), (20, 2))\n",
      "('Training Accuracy:', 0.85000002)\n",
      "('batchX, y_onehot, sizes', (187068, 20, 1), (20, 2))\n",
      "('Training Accuracy:', 0.89999998)\n",
      "('batchX, y_onehot, sizes', (110062, 20, 1), (20, 2))\n",
      "('Training Accuracy:', 0.89999998)\n",
      "('Epoch', 1, 'loss:', 316.07618021965027)\n",
      "('batchX, y_onehot, sizes', (99600, 20, 1), (20, 2))\n",
      "('Training Accuracy:', 0.80000001)\n",
      "('batchX, y_onehot, sizes', (84686, 20, 1), (20, 2))\n",
      "('Training Accuracy:', 0.94999999)\n",
      "('batchX, y_onehot, sizes', (72029, 20, 1), (20, 2))\n",
      "('Training Accuracy:', 0.89999998)\n",
      "('batchX, y_onehot, sizes', (187068, 20, 1), (20, 2))\n",
      "('Training Accuracy:', 0.80000001)\n",
      "('batchX, y_onehot, sizes', (71472, 20, 1), (20, 2))\n",
      "('Training Accuracy:', 0.75)\n",
      "('batchX, y_onehot, sizes', (103476, 20, 1), (20, 2))\n",
      "('Training Accuracy:', 0.80000001)\n",
      "('batchX, y_onehot, sizes', (83566, 20, 1), (20, 2))\n",
      "('Training Accuracy:', 0.94999999)\n",
      "('batchX, y_onehot, sizes', (78094, 20, 1), (20, 2))\n",
      "('Training Accuracy:', 0.94999999)\n",
      "('batchX, y_onehot, sizes', (112773, 20, 1), (20, 2))\n",
      "('Training Accuracy:', 0.89999998)\n",
      "('batchX, y_onehot, sizes', (189436, 20, 1), (20, 2))\n",
      "('Training Accuracy:', 0.60000002)\n",
      "('Epoch', 2, 'loss:', 9.5540522933006287)\n",
      "('batchX, y_onehot, sizes', (194030, 20, 1), (20, 2))\n",
      "('Training Accuracy:', 0.69999999)\n",
      "('batchX, y_onehot, sizes', (95016, 20, 1), (20, 2))\n",
      "('Training Accuracy:', 0.69999999)\n",
      "('batchX, y_onehot, sizes', (77814, 20, 1), (20, 2))\n",
      "('Training Accuracy:', 0.85000002)\n",
      "('batchX, y_onehot, sizes', (124878, 20, 1), (20, 2))\n",
      "('Training Accuracy:', 0.80000001)\n",
      "('batchX, y_onehot, sizes', (81738, 20, 1), (20, 2))\n",
      "('Training Accuracy:', 0.89999998)\n",
      "('batchX, y_onehot, sizes', (161196, 20, 1), (20, 2))\n",
      "('Training Accuracy:', 0.64999998)\n",
      "('batchX, y_onehot, sizes', (73610, 20, 1), (20, 2))\n"
     ]
    }
   ],
   "source": [
    "train_neural_network()"
   ]
  },
  {
   "cell_type": "code",
   "execution_count": null,
   "metadata": {
    "collapsed": true
   },
   "outputs": [],
   "source": []
  }
 ],
 "metadata": {
  "kernelspec": {
   "display_name": "Python 2",
   "language": "python",
   "name": "python2"
  },
  "language_info": {
   "codemirror_mode": {
    "name": "ipython",
    "version": 2
   },
   "file_extension": ".py",
   "mimetype": "text/x-python",
   "name": "python",
   "nbconvert_exporter": "python",
   "pygments_lexer": "ipython2",
   "version": "2.7.13"
  }
 },
 "nbformat": 4,
 "nbformat_minor": 2
}
