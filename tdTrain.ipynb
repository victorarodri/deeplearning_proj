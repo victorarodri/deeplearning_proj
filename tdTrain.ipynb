{
 "cells": [
  {
   "cell_type": "code",
   "execution_count": 1,
   "metadata": {
    "collapsed": false
   },
   "outputs": [],
   "source": [
    "import tensorflow as tf, numpy as np, shutil, random, os, csv\n",
    "from tensorflow.python.ops import rnn, rnn_cell\n",
    "import matplotlib.pyplot as plt\n",
    "import glob"
   ]
  },
  {
   "cell_type": "code",
   "execution_count": 2,
   "metadata": {
    "collapsed": true
   },
   "outputs": [],
   "source": [
    "# define variables\n",
    "train_path='./data/td/training/'\n",
    "validation_path='./data/td/validation/'\n",
    "reference_train_path=train_path + 'REFERENCE.csv'\n",
    "reference_validation_path=validation_path + 'REFERENCE.csv'\n",
    "train_dirs=os.listdir(train_path)\n",
    "train_size=len(train_dirs)\n",
    "\n",
    "batch_size=30\n",
    "epoch_batch_itr = 1\n",
    "n_epochs = 5\n",
    "n_classes = 2\n",
    "n_units = 10\n",
    "n_layers = 1\n",
    "n_validation_files = 300\n",
    "\n",
    "x_placeholder = tf.placeholder('float32', [None, batch_size, 1])\n",
    "y_placeholder = tf.placeholder('int32', [batch_size, n_classes])\n",
    "\n",
    "validation_x_placeholder = tf.placeholder('float32', [None, n_validation_files, 1])\n",
    "validation_y_placeholder = tf.placeholder('int32', [n_validation_files, n_classes])"
   ]
  },
  {
   "cell_type": "code",
   "execution_count": 3,
   "metadata": {
    "collapsed": false
   },
   "outputs": [],
   "source": [
    "def get_batch(path, batch_size):\n",
    "    filenames = glob.glob(os.path.join(path, '*npy'))\n",
    "    return random.sample(filenames, batch_size)\n",
    "\n",
    "def get_batch_max_len(batch_files):\n",
    "    batch_max_len=0\n",
    "    for f in batch_files:\n",
    "        batch_max_len=max(batch_max_len, np.load(f).shape[0])\n",
    "    return batch_max_len\n",
    "\n",
    "def get_reference(reference_path, reference):\n",
    "    with open(reference_path) as csvfile:\n",
    "        spamreader=csv.reader(csvfile, delimiter=',', quotechar='|')\n",
    "        for row in spamreader:\n",
    "            reference[row[0]]=row[1]\n",
    "\n",
    "def generate_batch(path, b_size):\n",
    "    if b_size == None:\n",
    "        b_size = batch_size\n",
    "\n",
    "    batch_files=get_batch(path, b_size)\n",
    "   \n",
    "    max_seq=get_batch_max_len(batch_files)\n",
    "\n",
    "    batchX=np.zeros((b_size, 1, max_seq), dtype='float32')\n",
    "    i=0\n",
    "    for f in batch_files:\n",
    "        arr=np.load(f)\n",
    "        arr=np.asmatrix(arr)\n",
    "        batchX[i][0][0:arr.shape[1]]=arr\n",
    "\n",
    "    i=0\n",
    "    batchY=np.zeros(b_size, dtype='int32')\n",
    "    for f in batch_files:\n",
    "        batchY[i] = reference_train[f.split('/')[-1].split('.')[0]]\n",
    "        i += 1\n",
    "    \n",
    "    # reshape batchX\n",
    "    batchX = np.swapaxes(batchX, 1, 2)\n",
    "    batchX = np.swapaxes(batchX, 0, 1)\n",
    "    \n",
    "    # convert batchY to onehot\n",
    "    y_onehot = np.zeros((b_size, 2))\n",
    "    y_onehot[np.where(batchY==1)] = np.array([0,1])\n",
    "    y_onehot[np.where(batchY==-1)] = np.array([1,0])\n",
    "    \n",
    "    print('batchX, y_onehot, sizes', batchX.shape, y_onehot.shape)\n",
    "    \n",
    "    return batchX, y_onehot"
   ]
  },
  {
   "cell_type": "code",
   "execution_count": null,
   "metadata": {
    "collapsed": false
   },
   "outputs": [],
   "source": [
    "def RNN(input_data, cell_name, is_multiLayer):\n",
    "    layer = {'weights':tf.Variable(tf.random_normal([n_units, n_classes])),\n",
    "             'biases':tf.Variable(tf.random_normal([n_classes]))}\n",
    "    global n_layers\n",
    "    if not is_multiLayer:\n",
    "        n_layers = 1\n",
    "    \n",
    "    test = True\n",
    "    if test:\n",
    "        if cell_name == 'basic':\n",
    "            input_cell = tf.contrib.rnn.MultiRNNCell([tf.nn.rnn_cell.BasicRNNCell(n_units, activation=tf.nn.relu) for _ in range(n_layers)])\n",
    "        elif cell_name == 'LSTM':\n",
    "            input_cell = tf.contrib.rnn.MultiRNNCell([tf.contrib.rnn.BasicLSTMCell(n_units) for _ in range(n_layers)])\n",
    "        else:\n",
    "            input_cell = tf.contrib.rnn.MultiRNNCell([tf.contrib.rnn.GRUCell(n_units) for _ in range(n_layers)])\n",
    "        \n",
    "    \n",
    "    outputs, states = tf.nn.dynamic_rnn(cell=input_cell, \n",
    "                                        inputs=input_data,\n",
    "                                        dtype=tf.float32,\n",
    "                                        time_major=True)\n",
    "        \n",
    "    return tf.matmul(outputs[-1],layer['weights']) + layer['biases']\n",
    "\n",
    "def get_optimizer(opt_name, cost):\n",
    "    if opt_name == 'adam':\n",
    "        return tf.train.AdamOptimizer().minimize(cost)\n",
    "    elif opt_name == 'ada':\n",
    "        return tf.train.AdadeltaOptimizer().minimize(cost)\n",
    "    elif opt_name == 'gradient':\n",
    "        return tf.train.GradientDescentOptimizer().minimize(cost)\n",
    "    else:\n",
    "        return tf.train.MomentumOptimizer(0.001, 0.4).minimize(cost)\n",
    "\n",
    "def train_neural_network(cell_name, is_Multilayer, opt_name):\n",
    "    print('Using Cell', cell_name, 'is_Multilayer', is_Multilayer, 'opt_name', opt_name)\n",
    "    \n",
    "    with tf.variable_scope('training'):\n",
    "        prediction = RNN(x_placeholder, cell_name, is_Multilayer)\n",
    "        cost = tf.reduce_mean( tf.nn.softmax_cross_entropy_with_logits(logits=prediction,labels=tf.reshape(y_placeholder, [batch_size, n_classes])))\n",
    "        optimizer = get_optimizer(opt_name, cost)\n",
    "    \n",
    "    with tf.variable_scope('validation'):\n",
    "        validation_prediction = RNN(validation_x_placeholder, cell_name, is_Multilayer)\n",
    "        correct = tf.equal(tf.argmax(validation_prediction, 1), tf.argmax(validation_y_placeholder, 1))\n",
    "        accuracy = tf.reduce_mean(tf.cast(correct, 'float32'))\n",
    "        \n",
    "    with tf.Session() as sess:\n",
    "        tf.global_variables_initializer().run()\n",
    "\n",
    "        for epoch in range(n_epochs):\n",
    "            epoch_loss = 0\n",
    "            for b in range(epoch_batch_itr):\n",
    "                batchX, batchY = generate_batch(train_path, None)\n",
    "                _, c = sess.run([optimizer, cost], feed_dict={x_placeholder: batchX, y_placeholder: batchY})\n",
    "                epoch_loss += c\n",
    "            validation_batchX, validation_batchY = generate_batch(validation_path, n_validation_files) \n",
    "            print('Epoch', epoch, 'loss:', epoch_loss, 'Validation Accuracy:', accuracy.eval({validation_x_placeholder: validation_batchX, validation_y_placeholder: validation_batchY}))        "
   ]
  },
  {
   "cell_type": "code",
   "execution_count": null,
   "metadata": {
    "collapsed": false
   },
   "outputs": [
    {
     "name": "stdout",
     "output_type": "stream",
     "text": [
      "('Using Cell', 'GRU', 'is_Multilayer', True, 'opt_name', 'ada')\n",
      "('batchX, y_onehot, sizes', (74886, 30, 1), (30, 2))\n",
      "('batchX, y_onehot, sizes', (243997, 300, 1), (300, 2))\n",
      "('Epoch', 0, 'loss:', 0.57933783531188965, 'Validation Accuracy:', 0.5)\n",
      "('batchX, y_onehot, sizes', (122827, 30, 1), (30, 2))\n"
     ]
    }
   ],
   "source": [
    "# read in reference train/validation file\n",
    "reference_train, reference_validation = {}, {}\n",
    "get_reference(reference_train_path, reference_train)\n",
    "get_reference(reference_validation_path, reference_validation)\n",
    "\n",
    "train_neural_network('GRU', True, 'ada')"
   ]
  },
  {
   "cell_type": "code",
   "execution_count": null,
   "metadata": {
    "collapsed": true
   },
   "outputs": [],
   "source": []
  }
 ],
 "metadata": {
  "kernelspec": {
   "display_name": "Python 2",
   "language": "python",
   "name": "python2"
  },
  "language_info": {
   "codemirror_mode": {
    "name": "ipython",
    "version": 2
   },
   "file_extension": ".py",
   "mimetype": "text/x-python",
   "name": "python",
   "nbconvert_exporter": "python",
   "pygments_lexer": "ipython2",
   "version": "2.7.13"
  }
 },
 "nbformat": 4,
 "nbformat_minor": 2
}
