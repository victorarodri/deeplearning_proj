{
 "cells": [
  {
   "cell_type": "code",
   "execution_count": 1,
   "metadata": {
    "collapsed": false
   },
   "outputs": [],
   "source": [
    "import tensorflow as tf, numpy as np, shutil, random, os, csv\n",
    "from tensorflow.python.ops import rnn, rnn_cell\n",
    "import matplotlib.pyplot as plt\n",
    "import glob"
   ]
  },
  {
   "cell_type": "code",
   "execution_count": 2,
   "metadata": {
    "collapsed": true
   },
   "outputs": [],
   "source": [
    "# define variables\n",
    "train_path='./data/td/training/'\n",
    "validation_path='./data/td/validation/'\n",
    "reference_train_path=train_path + 'REFERENCE.csv'\n",
    "reference_validation_path=validation_path + 'REFERENCE.csv'\n",
    "train_dirs=os.listdir(train_path)\n",
    "train_size=len(train_dirs)\n",
    "\n",
    "batch_size=20\n",
    "epoch_batch_itr = 10\n",
    "n_epochs = 5\n",
    "n_classes = 2\n",
    "n_units = 30\n",
    "\n",
    "x_placeholder = tf.placeholder('float32', [None, batch_size, 1])\n",
    "y_placeholder = tf.placeholder('int32', [batch_size, n_classes])"
   ]
  },
  {
   "cell_type": "code",
   "execution_count": 3,
   "metadata": {
    "collapsed": false
   },
   "outputs": [],
   "source": [
    "def get_batch(path, batch_size):\n",
    "    filenames = glob.glob(os.path.join(path, '*npy'))\n",
    "    return random.sample(filenames, batch_size)\n",
    "\n",
    "def get_batch_max_len(batch_files):\n",
    "    batch_max_len=0\n",
    "    for f in batch_files:\n",
    "        batch_max_len=max(batch_max_len, np.load(f).shape[0])\n",
    "    return batch_max_len\n",
    "\n",
    "def get_reference(reference_path, reference):\n",
    "    with open(reference_path) as csvfile:\n",
    "        spamreader=csv.reader(csvfile, delimiter=',', quotechar='|')\n",
    "        for row in spamreader:\n",
    "            reference[row[0]]=row[1]\n",
    "\n",
    "def generate_batch(path):\n",
    "    batch_files=get_batch(path, batch_size)\n",
    "   \n",
    "    max_seq=get_batch_max_len(batch_files)\n",
    "\n",
    "    batchX=np.zeros((batch_size, 1, max_seq), dtype='float32')\n",
    "    i=0\n",
    "    for f in batch_files:\n",
    "        arr=np.load(f)\n",
    "        arr=np.asmatrix(arr)\n",
    "        batchX[i][0][0:arr.shape[1]]=arr\n",
    "\n",
    "    i=0\n",
    "    batchY=np.zeros(batch_size, dtype='int32')\n",
    "    for f in batch_files:\n",
    "        batchY[i] = reference_train[f.split('/')[-1].split('.')[0]]\n",
    "        i += 1\n",
    "    \n",
    "    # reshape batchX\n",
    "    batchX = np.swapaxes(batchX, 1, 2)\n",
    "    batchX = np.swapaxes(batchX, 0, 1)\n",
    "    \n",
    "    # convert batchY to onehot\n",
    "    y_onehot = np.zeros((batch_size, 2))\n",
    "    y_onehot[np.where(batchY==1)] = np.array([0,1])\n",
    "    y_onehot[np.where(batchY==-1)] = np.array([1,0])\n",
    "    \n",
    "    print('batchX, y_onehot, sizes', batchX.shape, y_onehot.shape)\n",
    "    \n",
    "    return batchX, y_onehot"
   ]
  },
  {
   "cell_type": "code",
   "execution_count": 4,
   "metadata": {
    "collapsed": false
   },
   "outputs": [],
   "source": [
    "def basic_RNN(input_data):\n",
    "    layer = {'weights':tf.Variable(tf.random_normal([n_units, n_classes])),\n",
    "             'biases':tf.Variable(tf.random_normal([n_classes]))}\n",
    "    \n",
    "    rnn_cell = tf.nn.rnn_cell.BasicRNNCell(n_units, activation=tf.nn.relu)\n",
    "    outputs, states = tf.nn.dynamic_rnn(rnn_cell, \n",
    "                                       input_data,\n",
    "                                       dtype=tf.float32,\n",
    "                                       time_major=True)\n",
    "    output = tf.matmul(outputs[-1],layer['weights']) + layer['biases']\n",
    "\n",
    "    return output\n",
    "\n",
    "def lstm_RNN(input_data):\n",
    "    layer = {'weights':tf.Variable(tf.random_normal([n_units, n_classes])),\n",
    "             'biases':tf.Variable(tf.random_normal([n_classes]))}\n",
    "    \n",
    "    stacked_lstm = tf.contrib.rnn.MultiRNNCell([tf.contrib.rnn.BasicLSTMCell(n_units) for _ in range(3)])\n",
    "    outputs, states = tf.nn.dynamic_rnn(stacked_lstm, \n",
    "                                       input_data,\n",
    "                                       dtype=tf.float32,\n",
    "                                       time_major=True)\n",
    "        \n",
    "    output = tf.matmul(outputs[-1],layer['weights']) + layer['biases']\n",
    "    return output\n",
    "\n",
    "def train_neural_network(): \n",
    "#     prediction = basic_RNN(x_placeholder)\n",
    "    prediction = lstm_RNN(x_placeholder)\n",
    "    cost = tf.reduce_mean( tf.nn.softmax_cross_entropy_with_logits(logits=prediction,labels=tf.reshape(y_placeholder, [batch_size, n_classes])))\n",
    "#     optimizer = tf.train.AdamOptimizer().minimize(cost)\n",
    "    optimizer = tf.train.RMSPropOptimizer(learning_rate=0.001).minimize(cost)\n",
    "    \n",
    "    correct = tf.equal(tf.argmax(prediction, 1), tf.argmax(y_placeholder, 1))\n",
    "    accuracy = tf.reduce_mean(tf.cast(correct, 'float32'))\n",
    "        \n",
    "    with tf.Session() as sess:\n",
    "        tf.global_variables_initializer().run()\n",
    "\n",
    "        for epoch in range(n_epochs):\n",
    "            epoch_loss = 0\n",
    "            for b in range(epoch_batch_itr):\n",
    "                batchX, batchY = generate_batch(train_path)\n",
    "                _, c = sess.run([optimizer, cost], feed_dict={x_placeholder: batchX, y_placeholder: batchY})\n",
    "                epoch_loss += c\n",
    "            validation_batchX, validation_batchY = generate_batch(validation_path) \n",
    "            print('Epoch', epoch, 'loss:', epoch_loss, 'Validation Accuracy:', accuracy.eval({x_placeholder: validation_batchX, y_placeholder: validation_batchY}))        "
   ]
  },
  {
   "cell_type": "code",
   "execution_count": 5,
   "metadata": {
    "collapsed": false
   },
   "outputs": [
    {
     "ename": "ValueError",
     "evalue": "Input size (dimension 0 of inputs) must be accessible via shape inference, but saw value None.",
     "output_type": "error",
     "traceback": [
      "\u001b[0;31m---------------------------------------------------------------------------\u001b[0m",
      "\u001b[0;31mValueError\u001b[0m                                Traceback (most recent call last)",
      "\u001b[0;32m<ipython-input-5-dfe39cf180fc>\u001b[0m in \u001b[0;36m<module>\u001b[0;34m()\u001b[0m\n\u001b[1;32m      4\u001b[0m \u001b[0mget_reference\u001b[0m\u001b[0;34m(\u001b[0m\u001b[0mreference_validation_path\u001b[0m\u001b[0;34m,\u001b[0m \u001b[0mreference_validation\u001b[0m\u001b[0;34m)\u001b[0m\u001b[0;34m\u001b[0m\u001b[0m\n\u001b[1;32m      5\u001b[0m \u001b[0;34m\u001b[0m\u001b[0m\n\u001b[0;32m----> 6\u001b[0;31m \u001b[0mtrain_neural_network\u001b[0m\u001b[0;34m(\u001b[0m\u001b[0;34m)\u001b[0m\u001b[0;34m\u001b[0m\u001b[0m\n\u001b[0m",
      "\u001b[0;32m<ipython-input-4-6db1236c31ba>\u001b[0m in \u001b[0;36mtrain_neural_network\u001b[0;34m()\u001b[0m\n\u001b[1;32m     27\u001b[0m \u001b[0;32mdef\u001b[0m \u001b[0mtrain_neural_network\u001b[0m\u001b[0;34m(\u001b[0m\u001b[0;34m)\u001b[0m\u001b[0;34m:\u001b[0m\u001b[0;34m\u001b[0m\u001b[0m\n\u001b[1;32m     28\u001b[0m \u001b[0;31m#     prediction = basic_RNN(x_placeholder)\u001b[0m\u001b[0;34m\u001b[0m\u001b[0;34m\u001b[0m\u001b[0m\n\u001b[0;32m---> 29\u001b[0;31m     \u001b[0mprediction\u001b[0m \u001b[0;34m=\u001b[0m \u001b[0mlstm_RNN\u001b[0m\u001b[0;34m(\u001b[0m\u001b[0mx_placeholder\u001b[0m\u001b[0;34m)\u001b[0m\u001b[0;34m\u001b[0m\u001b[0m\n\u001b[0m\u001b[1;32m     30\u001b[0m     \u001b[0mcost\u001b[0m \u001b[0;34m=\u001b[0m \u001b[0mtf\u001b[0m\u001b[0;34m.\u001b[0m\u001b[0mreduce_mean\u001b[0m\u001b[0;34m(\u001b[0m \u001b[0mtf\u001b[0m\u001b[0;34m.\u001b[0m\u001b[0mnn\u001b[0m\u001b[0;34m.\u001b[0m\u001b[0msoftmax_cross_entropy_with_logits\u001b[0m\u001b[0;34m(\u001b[0m\u001b[0mlogits\u001b[0m\u001b[0;34m=\u001b[0m\u001b[0mprediction\u001b[0m\u001b[0;34m,\u001b[0m\u001b[0mlabels\u001b[0m\u001b[0;34m=\u001b[0m\u001b[0mtf\u001b[0m\u001b[0;34m.\u001b[0m\u001b[0mreshape\u001b[0m\u001b[0;34m(\u001b[0m\u001b[0my_placeholder\u001b[0m\u001b[0;34m,\u001b[0m \u001b[0;34m[\u001b[0m\u001b[0mbatch_size\u001b[0m\u001b[0;34m,\u001b[0m \u001b[0mn_classes\u001b[0m\u001b[0;34m]\u001b[0m\u001b[0;34m)\u001b[0m\u001b[0;34m)\u001b[0m\u001b[0;34m)\u001b[0m\u001b[0;34m\u001b[0m\u001b[0m\n\u001b[1;32m     31\u001b[0m \u001b[0;31m#     optimizer = tf.train.AdamOptimizer().minimize(cost)\u001b[0m\u001b[0;34m\u001b[0m\u001b[0;34m\u001b[0m\u001b[0m\n",
      "\u001b[0;32m<ipython-input-4-6db1236c31ba>\u001b[0m in \u001b[0;36mlstm_RNN\u001b[0;34m(input_data)\u001b[0m\n\u001b[1;32m     20\u001b[0m \u001b[0;34m\u001b[0m\u001b[0m\n\u001b[1;32m     21\u001b[0m     \u001b[0mstacked_lstm\u001b[0m \u001b[0;34m=\u001b[0m \u001b[0mtf\u001b[0m\u001b[0;34m.\u001b[0m\u001b[0mcontrib\u001b[0m\u001b[0;34m.\u001b[0m\u001b[0mrnn\u001b[0m\u001b[0;34m.\u001b[0m\u001b[0mMultiRNNCell\u001b[0m\u001b[0;34m(\u001b[0m\u001b[0;34m[\u001b[0m\u001b[0mtf\u001b[0m\u001b[0;34m.\u001b[0m\u001b[0mcontrib\u001b[0m\u001b[0;34m.\u001b[0m\u001b[0mrnn\u001b[0m\u001b[0;34m.\u001b[0m\u001b[0mBasicLSTMCell\u001b[0m\u001b[0;34m(\u001b[0m\u001b[0mn_units\u001b[0m\u001b[0;34m)\u001b[0m \u001b[0;32mfor\u001b[0m \u001b[0m_\u001b[0m \u001b[0;32min\u001b[0m \u001b[0mrange\u001b[0m\u001b[0;34m(\u001b[0m\u001b[0;36m3\u001b[0m\u001b[0;34m)\u001b[0m\u001b[0;34m]\u001b[0m\u001b[0;34m)\u001b[0m\u001b[0;34m\u001b[0m\u001b[0m\n\u001b[0;32m---> 22\u001b[0;31m     \u001b[0moutputs\u001b[0m\u001b[0;34m,\u001b[0m \u001b[0mstates\u001b[0m \u001b[0;34m=\u001b[0m \u001b[0mrnn\u001b[0m\u001b[0;34m.\u001b[0m\u001b[0mstatic_rnn\u001b[0m\u001b[0;34m(\u001b[0m\u001b[0mstacked_lstm\u001b[0m\u001b[0;34m,\u001b[0m \u001b[0minput_data\u001b[0m\u001b[0;34m)\u001b[0m\u001b[0;34m\u001b[0m\u001b[0m\n\u001b[0m\u001b[1;32m     23\u001b[0m \u001b[0;34m\u001b[0m\u001b[0m\n\u001b[1;32m     24\u001b[0m     \u001b[0moutput\u001b[0m \u001b[0;34m=\u001b[0m \u001b[0mtf\u001b[0m\u001b[0;34m.\u001b[0m\u001b[0mmatmul\u001b[0m\u001b[0;34m(\u001b[0m\u001b[0moutputs\u001b[0m\u001b[0;34m[\u001b[0m\u001b[0;34m-\u001b[0m\u001b[0;36m1\u001b[0m\u001b[0;34m]\u001b[0m\u001b[0;34m,\u001b[0m\u001b[0mlayer\u001b[0m\u001b[0;34m[\u001b[0m\u001b[0;34m'weights'\u001b[0m\u001b[0;34m]\u001b[0m\u001b[0;34m)\u001b[0m \u001b[0;34m+\u001b[0m \u001b[0mlayer\u001b[0m\u001b[0;34m[\u001b[0m\u001b[0;34m'biases'\u001b[0m\u001b[0;34m]\u001b[0m\u001b[0;34m\u001b[0m\u001b[0m\n",
      "\u001b[0;32m/Users/harryxiong/anaconda2/lib/python2.7/site-packages/tensorflow/python/ops/rnn.pyc\u001b[0m in \u001b[0;36mstatic_rnn\u001b[0;34m(cell, inputs, initial_state, dtype, sequence_length, scope)\u001b[0m\n\u001b[1;32m   1175\u001b[0m             raise ValueError(\n\u001b[1;32m   1176\u001b[0m                 \u001b[0;34m\"Input size (dimension %d of inputs) must be accessible via \"\u001b[0m\u001b[0;34m\u001b[0m\u001b[0m\n\u001b[0;32m-> 1177\u001b[0;31m                 \"shape inference, but saw value None.\" % i)\n\u001b[0m\u001b[1;32m   1178\u001b[0m     \u001b[0;32melse\u001b[0m\u001b[0;34m:\u001b[0m\u001b[0;34m\u001b[0m\u001b[0m\n\u001b[1;32m   1179\u001b[0m       \u001b[0mfixed_batch_size\u001b[0m \u001b[0;34m=\u001b[0m \u001b[0mfirst_input\u001b[0m\u001b[0;34m.\u001b[0m\u001b[0mget_shape\u001b[0m\u001b[0;34m(\u001b[0m\u001b[0;34m)\u001b[0m\u001b[0;34m.\u001b[0m\u001b[0mwith_rank_at_least\u001b[0m\u001b[0;34m(\u001b[0m\u001b[0;36m1\u001b[0m\u001b[0;34m)\u001b[0m\u001b[0;34m[\u001b[0m\u001b[0;36m0\u001b[0m\u001b[0;34m]\u001b[0m\u001b[0;34m\u001b[0m\u001b[0m\n",
      "\u001b[0;31mValueError\u001b[0m: Input size (dimension 0 of inputs) must be accessible via shape inference, but saw value None."
     ]
    }
   ],
   "source": [
    "# read in reference train/validation file\n",
    "reference_train, reference_validation = {}, {}\n",
    "get_reference(reference_train_path, reference_train)\n",
    "get_reference(reference_validation_path, reference_validation)\n",
    "\n",
    "train_neural_network()"
   ]
  },
  {
   "cell_type": "code",
   "execution_count": null,
   "metadata": {
    "collapsed": true
   },
   "outputs": [],
   "source": []
  }
 ],
 "metadata": {
  "kernelspec": {
   "display_name": "Python 2",
   "language": "python",
   "name": "python2"
  },
  "language_info": {
   "codemirror_mode": {
    "name": "ipython",
    "version": 2
   },
   "file_extension": ".py",
   "mimetype": "text/x-python",
   "name": "python",
   "nbconvert_exporter": "python",
   "pygments_lexer": "ipython2",
   "version": "2.7.13"
  }
 },
 "nbformat": 4,
 "nbformat_minor": 2
}
